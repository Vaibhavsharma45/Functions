{
 "cells": [
  {
   "cell_type": "markdown",
   "id": "85ed4931",
   "metadata": {},
   "source": [
    "Hello! \n"
   ]
  },
  {
   "cell_type": "markdown",
   "id": "78ab5f96",
   "metadata": {},
   "source": [
    "#theory questions "
   ]
  },
  {
   "cell_type": "code",
   "execution_count": 1,
   "id": "f1877c98",
   "metadata": {},
   "outputs": [
    {
     "name": "stdout",
     "output_type": "stream",
     "text": [
      "Hello, Vaibhav!\n",
      "PYTHON\n"
     ]
    }
   ],
   "source": [
    "#Q1:- What is the difference between a function and a method in Python\n",
    "#ans:- a function is an independent block of code that performs a specific task and can be called directly without being tied to any object. For example, len([1, 2, 3]) is a function that returns the length of a list. On the other hand, a method is a function that is defined inside a class and is associated with an object; it is called using that object. For example, \"hello\".upper() is a method that converts the string to uppercase.\n",
    "#Example in code:\n",
    "# Function example\n",
    "def greet(name):\n",
    "    return f\"Hello, {name}!\"\n",
    "\n",
    "print(greet(\"Vaibhav\"))  # Function call\n",
    "\n",
    "# Method example\n",
    "text = \"python\"\n",
    "print(text.upper())  # Method call on string object\n"
   ]
  },
  {
   "cell_type": "code",
   "execution_count": 2,
   "id": "d5df9e0a",
   "metadata": {},
   "outputs": [
    {
     "name": "stdout",
     "output_type": "stream",
     "text": [
      "Hello, Vaibhav!\n"
     ]
    }
   ],
   "source": [
    "#Q2:- Explain the concept of function arguments and parameters in Python\n",
    "#ans:-parameters are the variables defined in a function’s definition that act as placeholders for values the function will receive. Arguments are the actual values you pass to the function when calling it. Parameters define what kind of data the function expects, and arguments supply that data during execution\n",
    "#example:-\n",
    "# 'name' is a parameter\n",
    "def greet(name):\n",
    "    print(f\"Hello, {name}!\")\n",
    "\n",
    "# \"Vaibhav\" is an argument\n",
    "greet(\"Vaibhav\")\n"
   ]
  },
  {
   "cell_type": "code",
   "execution_count": 3,
   "id": "91dab22c",
   "metadata": {},
   "outputs": [
    {
     "name": "stdout",
     "output_type": "stream",
     "text": [
      "Hello!\n",
      "Hello, Vaibhav!\n",
      "Hello, Guest!\n",
      "Hello, Ravi!\n",
      "16\n",
      "(1, 2, 3)\n"
     ]
    }
   ],
   "source": [
    "#Q3:- What are the different ways to define and call a function in Python\n",
    "#ans:-there are several ways to define and call a function:\n",
    "\n",
    "#1.Standard Function – Defined using def keyword and called by its name.\n",
    "\n",
    "def greet():\n",
    "    print(\"Hello!\")\n",
    "greet()  # Calling\n",
    "\n",
    "\n",
    "#2.Function with Parameters – Accepts inputs when called.\n",
    "\n",
    "def greet(name):\n",
    "    print(f\"Hello, {name}!\")\n",
    "greet(\"Vaibhav\")  # Calling with argument\n",
    "\n",
    "\n",
    "#3.Function with Return Value – Sends a value back to the caller.\n",
    "\n",
    "def add(a, b):\n",
    "    return a + b\n",
    "result = add(3, 5)  # Calling and storing result\n",
    "\n",
    "\n",
    "#4.Default Parameter Function – Uses default values if no argument is passed.\n",
    "\n",
    "def greet(name=\"Guest\"):\n",
    "    print(f\"Hello, {name}!\")\n",
    "greet()         # Uses default\n",
    "greet(\"Ravi\")   # Overrides default\n",
    "\n",
    "\n",
    "#5.Lambda Function – A small anonymous function using lambda keyword.\n",
    "\n",
    "square = lambda x: x * x\n",
    "print(square(4))  # Calling\n",
    "\n",
    "\n",
    "#6.Function with Variable Arguments – Accepts multiple arguments using *args or **kwargs.\n",
    "\n",
    "def show_numbers(*args):\n",
    "    print(args)\n",
    "show_numbers(1, 2, 3)  # Calling with multiple arguments"
   ]
  },
  {
   "cell_type": "code",
   "execution_count": 4,
   "id": "50c9520f",
   "metadata": {},
   "outputs": [
    {
     "name": "stdout",
     "output_type": "stream",
     "text": [
      "8\n"
     ]
    }
   ],
   "source": [
    "#Q4:-What is the purpose of the `return` statement in a Python function\n",
    "#ans:-the return statement is used to send a value from a function back to the place where the function was called. It allows the function to produce an output that can be stored in a variable or used in further calculations. If no return statement is used, the function returns None by default.\n",
    "\n",
    "#Example:\n",
    "\n",
    "def add(a, b):\n",
    "    return a + b  # returns the sum\n",
    "\n",
    "result = add(5, 3)  # result will be 8\n",
    "print(result)\n",
    "\n",
    "\n",
    "#Here, return a + b sends the sum back to the caller, and we store it in result."
   ]
  },
  {
   "cell_type": "code",
   "execution_count": 6,
   "id": "828b07c6",
   "metadata": {},
   "outputs": [
    {
     "name": "stdout",
     "output_type": "stream",
     "text": [
      "1\n",
      "2\n",
      "3\n"
     ]
    }
   ],
   "source": [
    "#Q5:- What are iterators in Python and how do they differ from iterable\n",
    "#ans:-an iterator is an object that represents a stream of data and returns one element at a time when you call next() on it. It must implement the __iter__() and __next__() methods.\n",
    "\n",
    "#An iterable is any Python object that can return an iterator when passed to the iter() function. Examples include lists, tuples, strings, and dictionaries.\n",
    "\n",
    "#Key Difference:\n",
    "\n",
    "#1.Iterable: Can be looped over but does not keep track of the current position itself.\n",
    "\n",
    "#2.Iterator: Keeps track of the current position and produces the next value when requested.\n",
    "\n",
    "#Example:\n",
    "# Iterable (list)\n",
    "numbers = [1, 2, 3]\n",
    "\n",
    "# Get iterator from iterable\n",
    "it = iter(numbers)  \n",
    "\n",
    "print(next(it))  # 1\n",
    "print(next(it))  # 2\n",
    "print(next(it))  # 3\n",
    "\n",
    "\n",
    "#Here, numbers is an iterable, and it is the iterator created from it."
   ]
  },
  {
   "cell_type": "code",
   "execution_count": 7,
   "id": "63a10d81",
   "metadata": {},
   "outputs": [
    {
     "name": "stdout",
     "output_type": "stream",
     "text": [
      "1\n",
      "2\n",
      "3\n",
      "4\n",
      "5\n"
     ]
    }
   ],
   "source": [
    "#Q6:- Explain the concept of generators in Python and how they are defined\n",
    "#ans:-a generator is a special type of function that produces values one at a time using the yield keyword instead of returning them all at once. Generators are used for lazy evaluation, meaning they generate values only when needed, which saves memory and improves performance for large datasets.\n",
    "\n",
    "#How they are defined:\n",
    "\n",
    "#Defined like a normal function but use yield instead of return.\n",
    "\n",
    "#Each call to yield pauses the function’s state, allowing it to resume from the same point later.\n",
    "\n",
    "#Generators automatically implement the iterator protocol (__iter__() and __next__()).\n",
    "\n",
    "#Example:\n",
    "\n",
    "def count_up_to(n):\n",
    "    count = 1\n",
    "    while count <= n:\n",
    "        yield count\n",
    "        count += 1\n",
    "\n",
    "# Using the generator\n",
    "for num in count_up_to(5):\n",
    "    print(num)"
   ]
  },
  {
   "cell_type": "code",
   "execution_count": 9,
   "id": "125b82c7",
   "metadata": {},
   "outputs": [
    {
     "data": {
      "text/plain": [
       "'\\n1.Memory Efficiency :– Generators produce values one at a time instead of storing the entire result in memory.\\nExample: Generating numbers up to 1 billion without storing them all at once.\\n\\n2.Lazy Evaluation :– Values are computed only when needed, which saves processing time for unused results.\\nExample: Reading large files line-by-line instead of loading the whole file.\\n\\n3.Infinite Sequences Support :– Can generate endless data streams without memory overflow.\\nExample: count() from itertools can generate numbers forever.\\n\\n4.Improved Performance :– Reduces the overhead of returning large data structures, making loops faster.\\nExample: Iterating over yield results is faster for large datasets.\\n\\n5.Cleaner Code :– Removes the need for manual iterator classes; yield automatically maintains state.\\nExample: A generator can replace a complex __iter__ and __next__ implementation.'"
      ]
     },
     "execution_count": 9,
     "metadata": {},
     "output_type": "execute_result"
    }
   ],
   "source": [
    "#Q7:- What are the advantages of using generators over regular functions\n",
    "#ans:-Advantages of using Generators over Regular Functions in Python:\n",
    "'''\n",
    "1.Memory Efficiency :– Generators produce values one at a time instead of storing the entire result in memory.\n",
    "Example: Generating numbers up to 1 billion without storing them all at once.\n",
    "\n",
    "2.Lazy Evaluation :– Values are computed only when needed, which saves processing time for unused results.\n",
    "Example: Reading large files line-by-line instead of loading the whole file.\n",
    "\n",
    "3.Infinite Sequences Support :– Can generate endless data streams without memory overflow.\n",
    "Example: count() from itertools can generate numbers forever.\n",
    "\n",
    "4.Improved Performance :– Reduces the overhead of returning large data structures, making loops faster.\n",
    "Example: Iterating over yield results is faster for large datasets.\n",
    "\n",
    "5.Cleaner Code :– Removes the need for manual iterator classes; yield automatically maintains state.\n",
    "Example: A generator can replace a complex __iter__ and __next__ implementation.'''"
   ]
  },
  {
   "cell_type": "code",
   "execution_count": 10,
   "id": "f23921eb",
   "metadata": {},
   "outputs": [
    {
     "name": "stdout",
     "output_type": "stream",
     "text": [
      "25\n",
      "['Anil', 'Ravi', 'Vaibhav']\n"
     ]
    }
   ],
   "source": [
    "#Q8:- What is a lambda function in Python and when is it typically used\n",
    "#ans:-a lambda function is a small, anonymous function defined using the lambda keyword instead of def. It can have any number of parameters but only one expression, and it automatically returns the value of that expression without using the return keyword.\n",
    "\n",
    "#Syntax:\n",
    "\n",
    "#lambda arguments: expression\n",
    "\n",
    "\n",
    "#When it is typically used:\n",
    "'''\n",
    "When you need a short, throwaway function for a limited scope.\n",
    "\n",
    "In situations like sorting, filtering, or mapping data without defining a separate full function.\n",
    "\n",
    "As arguments to higher-order functions like map(), filter(), and sorted().'''\n",
    "\n",
    "#Example:\n",
    "\n",
    "# Lambda to square a number\n",
    "square = lambda x: x * x\n",
    "print(square(5))  # Output: 25\n",
    "\n",
    "# Using lambda with sorted()\n",
    "names = [\"Anil\", \"Vaibhav\", \"Ravi\"]\n",
    "print(sorted(names, key=lambda name: len(name)))  # Sort by length"
   ]
  },
  {
   "cell_type": "code",
   "execution_count": 12,
   "id": "d5b00927",
   "metadata": {},
   "outputs": [
    {
     "name": "stdout",
     "output_type": "stream",
     "text": [
      "[1, 4, 9, 16]\n",
      "[2, 4, 6, 8]\n"
     ]
    }
   ],
   "source": [
    "#Q9:-Explain the purpose and usage of the `map()` function in Python\n",
    "#ans:-the map() function is used to apply a given function to each item of an iterable (like a list, tuple, or set) and returns a map object (an iterator) containing the results.\n",
    "\n",
    "#Purpose:\n",
    "\n",
    "'''To avoid writing manual loops when applying the same operation to multiple elements.\n",
    "Makes code shorter and more readable for element-wise transformations.'''\n",
    "\n",
    "#Syntax:\n",
    "#map(function, iterable)\n",
    "#function → The function to apply.\n",
    "# iterable → The data to process (list, tuple, etc.).\n",
    "#Example:\n",
    "# Function to square a number\n",
    "def square(x):\n",
    "    return x * x\n",
    "\n",
    "numbers = [1, 2, 3, 4]\n",
    "result = map(square, numbers)\n",
    "\n",
    "print(list(result))  # Output: [1, 4, 9, 16]\n",
    "\n",
    "#Example with Lambda:\n",
    "numbers = [1, 2, 3, 4]\n",
    "result = map(lambda x: x * 2, numbers)\n",
    "print(list(result))  # Output: [2, 4, 6, 8]"
   ]
  },
  {
   "cell_type": "code",
   "execution_count": 13,
   "id": "84a4d0ad",
   "metadata": {},
   "outputs": [
    {
     "name": "stdout",
     "output_type": "stream",
     "text": [
      "[2, 4, 6, 8] [2, 4] 10\n"
     ]
    }
   ],
   "source": [
    "#Q10:- What is the difference between `map()`, `reduce()`, and `filter()` functions in Python\n",
    "#ans:-In Python, map(), filter(), and reduce() are higher-order functions used for processing iterables, but they work differently. The map() function applies a given function to each element of an iterable and returns a map object (iterator) containing the transformed elements. For example, map(lambda x: x*2, [1,2,3]) produces [2,4,6]. The filter() function selects elements from an iterable that satisfy a given condition and returns only those matching elements; for instance, filter(lambda x: x%2==0, [1,2,3,4]) produces [2,4]. The reduce() function, available in the functools module, applies a function cumulatively to the elements of an iterable to reduce it to a single value, such as reduce(lambda x,y: x+y, [1,2,3,4]) which results in 10. In short, map() transforms data, filter() extracts specific data, and reduce() combines data into one result.\n",
    "from functools import reduce\n",
    "\n",
    "nums = [1, 2, 3, 4]\n",
    "\n",
    "# map()\n",
    "mapped = list(map(lambda x: x * 2, nums))       # [2, 4, 6, 8]\n",
    "\n",
    "# filter()\n",
    "filtered = list(filter(lambda x: x % 2 == 0, nums))  # [2, 4]\n",
    "\n",
    "# reduce()\n",
    "reduced = reduce(lambda x, y: x + y, nums)      # 10\n",
    "\n",
    "print(mapped, filtered, reduced)\n"
   ]
  },
  {
   "cell_type": "markdown",
   "id": "4e1094a7",
   "metadata": {},
   "source": [
    "# Q11:- Using pen & Paper write the internal mechanism for sum operation using  reduce function on this given\n",
    "#list:[47,11,42,13]\n",
    "# ans:-!\n",
    "[Reduce Example](Q11.png.jpg)\n",
    "# sir chatgpt ki help lekar kiya hai ye photo add mere pe nhi aata tha \n",
    "\n"
   ]
  },
  {
   "cell_type": "markdown",
   "id": "5112caf7",
   "metadata": {},
   "source": [
    "Practical Questions:"
   ]
  },
  {
   "cell_type": "code",
   "execution_count": 18,
   "id": "75dcb9e5",
   "metadata": {},
   "outputs": [
    {
     "name": "stdout",
     "output_type": "stream",
     "text": [
      "Sum of even numbers: 12\n"
     ]
    }
   ],
   "source": [
    "#1. Write a Python function that takes a list of numbers as input and returns the sum of all even numbers in the list.\n",
    "#ans:-\n",
    "def sum_even_numbers(numbers):\n",
    "    total = 0\n",
    "    for num in numbers:\n",
    "        if num % 2 == 0:  # Check if even\n",
    "            total += num\n",
    "    return total\n",
    "\n",
    "# Example usage\n",
    "nums = [1, 2, 3, 4, 5, 6]\n",
    "result = sum_even_numbers(nums)\n",
    "print(\"Sum of even numbers:\", result)\n",
    "\n"
   ]
  },
  {
   "cell_type": "code",
   "execution_count": 19,
   "id": "59c339fe",
   "metadata": {},
   "outputs": [
    {
     "name": "stdout",
     "output_type": "stream",
     "text": [
      "Reversed string: vahbiaV\n"
     ]
    }
   ],
   "source": [
    "#2:- Create a Python function that accepts a string and returns the reverse of that string.\n",
    "#ans:-\n",
    "def reverse_string(text):\n",
    "    return text[::-1]  # Slice with step -1 to reverse\n",
    "\n",
    "# Example usage\n",
    "word = \"Vaibhav\"\n",
    "result = reverse_string(word)\n",
    "print(\"Reversed string:\", result)\n"
   ]
  },
  {
   "cell_type": "code",
   "execution_count": 20,
   "id": "96931c65",
   "metadata": {},
   "outputs": [
    {
     "name": "stdout",
     "output_type": "stream",
     "text": [
      "Squares: [1, 4, 9, 16, 25]\n"
     ]
    }
   ],
   "source": [
    "#3:Implement a Python function that takes a list of integers and returns a new list containing the squares of each number\n",
    "#ans:-\n",
    "def square_list(numbers):\n",
    "    return [num ** 2 for num in numbers]  # List comprehension\n",
    "\n",
    "# Example usage\n",
    "nums = [1, 2, 3, 4, 5]\n",
    "result = square_list(nums)\n",
    "print(\"Squares:\", result)\n"
   ]
  },
  {
   "cell_type": "code",
   "execution_count": 21,
   "id": "f3d5a8fe",
   "metadata": {},
   "outputs": [
    {
     "name": "stdout",
     "output_type": "stream",
     "text": [
      "2 3 5 7 11 13 17 19 23 29 31 37 41 43 47 53 59 61 67 71 73 79 83 89 97 101 103 107 109 113 127 131 137 139 149 151 157 163 167 173 179 181 191 193 197 199 "
     ]
    }
   ],
   "source": [
    "#4:-Write a Python function that checks if a given number is prime or not from 1 to 200\n",
    "#ans:-\n",
    "def is_prime(num):\n",
    "    if num < 2:\n",
    "        return False\n",
    "    for i in range(2, int(num**0.5) + 1):\n",
    "        if num % i == 0:\n",
    "            return False\n",
    "    return True\n",
    "\n",
    "# Print all prime numbers from 1 to 200\n",
    "for n in range(1, 201):\n",
    "    if is_prime(n):\n",
    "        print(n, end=\" \")\n"
   ]
  },
  {
   "cell_type": "code",
   "execution_count": 22,
   "id": "b6e17084",
   "metadata": {},
   "outputs": [
    {
     "name": "stdout",
     "output_type": "stream",
     "text": [
      "0 1 1 2 3 5 8 13 21 34 "
     ]
    }
   ],
   "source": [
    "#5. Create an iterator class in Python that generates the Fibonacci sequence up to a specified number of terms.\n",
    "#ans:-\n",
    "class Fibonacci:\n",
    "    def __init__(self, terms):\n",
    "        self.terms = terms\n",
    "        self.count = 0\n",
    "        self.a, self.b = 0, 1  # First two Fibonacci numbers\n",
    "\n",
    "    def __iter__(self):\n",
    "        return self\n",
    "\n",
    "    def __next__(self):\n",
    "        if self.count < self.terms:\n",
    "            if self.count == 0:\n",
    "                self.count += 1\n",
    "                return self.a\n",
    "            elif self.count == 1:\n",
    "                self.count += 1\n",
    "                return self.b\n",
    "            else:\n",
    "                self.a, self.b = self.b, self.a + self.b\n",
    "                self.count += 1\n",
    "                return self.b\n",
    "        else:\n",
    "            raise StopIteration\n",
    "\n",
    "# Example usage\n",
    "fib = Fibonacci(10)  # First 10 terms\n",
    "for num in fib:\n",
    "    print(num, end=\" \")\n"
   ]
  },
  {
   "cell_type": "code",
   "execution_count": null,
   "id": "bfb2de89",
   "metadata": {},
   "outputs": [
    {
     "name": "stdout",
     "output_type": "stream",
     "text": [
      "1 2 4 8 16 32 "
     ]
    }
   ],
   "source": [
    "#6. Write a generator function in Python that yields the powers of 2 up to a given exponent\n",
    "#ans:-\n",
    "def powers_of_two(n):\n",
    "    for i in range(n + 1):\n",
    "        yield 2 ** i  # Yield power of 2\n",
    "\n",
    "# Example \n",
    "for value in powers_of_two(5):\n",
    "    print(value, end=\" \")\n"
   ]
  },
  {
   "cell_type": "code",
   "execution_count": null,
   "id": "96e02832",
   "metadata": {},
   "outputs": [],
   "source": [
    "#7. Implement a generator function that reads a file line by line and yields each line as a string.\n",
    "#ans:-\n",
    "def read_file_lines(filename):\n",
    "    with open(filename, 'r') as file:\n",
    "        for line in file:\n",
    "            yield line.strip()  # Remove extra spaces/newline\n",
    "\n",
    "# Example usage\n",
    "for line in read_file_lines(\"abc.txt\"):# this is also a example file \n",
    "    print(line)\n"
   ]
  },
  {
   "cell_type": "code",
   "execution_count": 29,
   "id": "8f5a6393",
   "metadata": {},
   "outputs": [
    {
     "name": "stdout",
     "output_type": "stream",
     "text": [
      "[(3, 2), (2, 4), (1, 5), (4, 8)]\n"
     ]
    }
   ],
   "source": [
    "#8. Use a lambda function in Python to sort a list of tuples based on the second element of each tuple\n",
    "#ans:-\n",
    "# List of tuples\n",
    "data = [(1, 5), (3, 2), (4, 8), (2, 4)]\n",
    "\n",
    "# Sort by second element\n",
    "sorted_data = sorted(data, key=lambda x: x[1])\n",
    "\n",
    "print(sorted_data)\n"
   ]
  },
  {
   "cell_type": "code",
   "execution_count": 30,
   "id": "30df4a1d",
   "metadata": {},
   "outputs": [
    {
     "name": "stdout",
     "output_type": "stream",
     "text": [
      "[32.0, 68.0, 98.6, 212.0]\n"
     ]
    }
   ],
   "source": [
    "#9. Write a Python program that uses `map()` to convert a list of temperatures from Celsius to Fahrenheit\n",
    "#ans:-\n",
    "# List of temperatures in Celsius\n",
    "celsius = [0, 20, 37, 100]\n",
    "\n",
    "# Convert to Fahrenheit using map()\n",
    "fahrenheit = list(map(lambda c: (c * 9/5) + 32, celsius))\n",
    "\n",
    "print(fahrenheit)\n"
   ]
  },
  {
   "cell_type": "code",
   "execution_count": 31,
   "id": "64543581",
   "metadata": {},
   "outputs": [
    {
     "name": "stdout",
     "output_type": "stream",
     "text": [
      "Hll Wrld, Pythn s mzng!\n"
     ]
    }
   ],
   "source": [
    "#10. Create a Python program that uses `filter()` to remove all the vowels from a given string.\n",
    "#ans:-\n",
    "# Given string\n",
    "text = \"Hello World, Python is amazing!\"\n",
    "\n",
    "# Remove vowels using filter()\n",
    "vowels = \"aeiouAEIOU\"\n",
    "result = \"\".join(filter(lambda ch: ch not in vowels, text))\n",
    "\n",
    "print(result)\n"
   ]
  },
  {
   "cell_type": "code",
   "execution_count": 33,
   "id": "2bf671f5",
   "metadata": {},
   "outputs": [
    {
     "name": "stdout",
     "output_type": "stream",
     "text": [
      "[(34587, 163.8), (98762, 284.0), (77226, 108.85000000000001), (88112, 84.97)]\n"
     ]
    }
   ],
   "source": [
    "#11. ............................................\n",
    "#ans:-\n",
    "# Given data\n",
    "orders = [\n",
    "    [34587, \"Learning Python, Mark Lutz\", 4, 40.95],\n",
    "    [98762, \"Programming Python, Mark Lutz\", 5, 56.80],\n",
    "    [77226, \"Head First Python, Paul Barry\", 3, 32.95],\n",
    "    [88112, \"Einführung in Python3, Bernd Klein\", 3, 24.99]\n",
    "]\n",
    "\n",
    "# Using map and lambda\n",
    "result = list(map(\n",
    "    lambda order: (\n",
    "        order[0],  # Order Number\n",
    "        order[2] * order[3] if order[2] * order[3] >= 100 else order[2] * order[3] + 10\n",
    "    ),\n",
    "    orders\n",
    "))\n",
    "\n",
    "# Output\n",
    "print(result)\n",
    "\n",
    "#mujhe ye smhj nhi aaya to maine chatgpt ki help bhi le li isme "
   ]
  },
  {
   "cell_type": "markdown",
   "id": "7c705f98",
   "metadata": {},
   "source": [
    "thankyou "
   ]
  },
  {
   "cell_type": "markdown",
   "id": "4dec58db",
   "metadata": {},
   "source": []
  }
 ],
 "metadata": {
  "kernelspec": {
   "display_name": "Python 3",
   "language": "python",
   "name": "python3"
  },
  "language_info": {
   "codemirror_mode": {
    "name": "ipython",
    "version": 3
   },
   "file_extension": ".py",
   "mimetype": "text/x-python",
   "name": "python",
   "nbconvert_exporter": "python",
   "pygments_lexer": "ipython3",
   "version": "3.13.6"
  }
 },
 "nbformat": 4,
 "nbformat_minor": 5
}
